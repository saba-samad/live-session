{
  "nbformat": 4,
  "nbformat_minor": 0,
  "metadata": {
    "colab": {
      "provenance": [],
      "include_colab_link": true
    },
    "kernelspec": {
      "name": "python3",
      "display_name": "Python 3"
    },
    "language_info": {
      "name": "python"
    }
  },
  "cells": [
    {
      "cell_type": "markdown",
      "metadata": {
        "id": "view-in-github",
        "colab_type": "text"
      },
      "source": [
        "<a href=\"https://colab.research.google.com/github/saba-samad/live-session/blob/main/Mad_Libs.ipynb\" target=\"_parent\"><img src=\"https://colab.research.google.com/assets/colab-badge.svg\" alt=\"Open In Colab\"/></a>"
      ]
    },
    {
      "cell_type": "markdown",
      "source": [
        "# Project 1: Mad libs Python Project"
      ],
      "metadata": {
        "id": "rVorOFp5Mx-u"
      }
    },
    {
      "cell_type": "code",
      "execution_count": null,
      "metadata": {
        "colab": {
          "base_uri": "https://localhost:8080/"
        },
        "id": "cShV_ZnNeqPb",
        "outputId": "cb7f3112-7f47-4063-d340-dbba3e65b233"
      },
      "outputs": [
        {
          "output_type": "stream",
          "name": "stdout",
          "text": [
            "Welcome to the Mad Libs Game!\n",
            "Enter your name: Hamza\n",
            "Enter a place: Zoo\n",
            "Enter an animal: cat\n",
            "Enter a verb: eating\n",
            "Enter an adjective: funny\n",
            "Enter a type of food: Spicy Rice\n",
            "\n",
            "One bright morning, Hamza decided to visit Zoo.  \n",
            "While exploring, Hamza stumbled upon a funny cat that was eating around playfully.  \n",
            "It was such an unexpected sight that Hamza couldn't stop laughing!  \n",
            "After a fun-filled day, Hamza enjoyed a delicious feast of Spicy Rice, making the adventure even more memorable.  \n",
            "What an unforgettable day at Zoo!\n",
            "\n"
          ]
        }
      ],
      "source": [
        "print(\"Welcome to the Mad Libs Game!\")\n",
        "\n",
        "\n",
        "name = input(\"Enter your name: \")\n",
        "place = input(\"Enter a place: \")\n",
        "animal = input(\"Enter an animal: \")\n",
        "verb = input(\"Enter a verb: \")\n",
        "adjective = input(\"Enter an adjective: \")\n",
        "food = input(\"Enter a type of food: \")\n",
        "\n",
        "\n",
        "story = f\"\"\"\n",
        "One bright morning, {name} decided to visit {place}.\n",
        "While exploring, {name} stumbled upon a {adjective} {animal} that was {verb} around playfully.\n",
        "It was such an unexpected sight that {name} couldn't stop laughing!\n",
        "After a fun-filled day, {name} enjoyed a delicious feast of {food}, making the adventure even more memorable.\n",
        "What an unforgettable day at {place}!\n",
        "\"\"\"\n",
        "\n",
        "\n",
        "print(story)\n"
      ]
    }
  ]
}